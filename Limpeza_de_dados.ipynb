{
 "cells": [
  {
   "cell_type": "markdown",
   "metadata": {},
   "source": [
    "# Limpando os dados da nossa base\n",
    "\n",
    "### Importando a base de clientes de um banco com o resultado do pagamento ou não de um empréstimo"
   ]
  },
  {
   "cell_type": "code",
   "execution_count": 1,
   "metadata": {},
   "outputs": [],
   "source": [
    "import pandas as pd"
   ]
  },
  {
   "cell_type": "code",
   "execution_count": 2,
   "metadata": {},
   "outputs": [],
   "source": [
    "base = pd.read_excel(\"ChavesClientes.xlsx\",sheet_name = \"base\")"
   ]
  },
  {
   "cell_type": "code",
   "execution_count": 3,
   "metadata": {},
   "outputs": [
    {
     "data": {
      "text/html": [
       "<div>\n",
       "<style scoped>\n",
       "    .dataframe tbody tr th:only-of-type {\n",
       "        vertical-align: middle;\n",
       "    }\n",
       "\n",
       "    .dataframe tbody tr th {\n",
       "        vertical-align: top;\n",
       "    }\n",
       "\n",
       "    .dataframe thead th {\n",
       "        text-align: right;\n",
       "    }\n",
       "</style>\n",
       "<table border=\"1\" class=\"dataframe\">\n",
       "  <thead>\n",
       "    <tr style=\"text-align: right;\">\n",
       "      <th></th>\n",
       "      <th>ID</th>\n",
       "      <th>ChaveSituacao</th>\n",
       "      <th>ClassRisco</th>\n",
       "      <th>CatCliente</th>\n",
       "      <th>Pagamento</th>\n",
       "    </tr>\n",
       "  </thead>\n",
       "  <tbody>\n",
       "    <tr>\n",
       "      <th>0</th>\n",
       "      <td>1</td>\n",
       "      <td>32FC</td>\n",
       "      <td>Ccinza</td>\n",
       "      <td>Basic-Alpha</td>\n",
       "      <td>1</td>\n",
       "    </tr>\n",
       "    <tr>\n",
       "      <th>1</th>\n",
       "      <td>2</td>\n",
       "      <td>25MV</td>\n",
       "      <td>AAmarelo</td>\n",
       "      <td>Black</td>\n",
       "      <td>1</td>\n",
       "    </tr>\n",
       "    <tr>\n",
       "      <th>2</th>\n",
       "      <td>3</td>\n",
       "      <td>27MV</td>\n",
       "      <td>B-Amarelo</td>\n",
       "      <td>Basic-Beta</td>\n",
       "      <td>1</td>\n",
       "    </tr>\n",
       "    <tr>\n",
       "      <th>3</th>\n",
       "      <td>4</td>\n",
       "      <td>26FD</td>\n",
       "      <td>BPreto</td>\n",
       "      <td>Black</td>\n",
       "      <td>0</td>\n",
       "    </tr>\n",
       "    <tr>\n",
       "      <th>4</th>\n",
       "      <td>5</td>\n",
       "      <td>26FD</td>\n",
       "      <td>C-Amarelo</td>\n",
       "      <td>Black</td>\n",
       "      <td>0</td>\n",
       "    </tr>\n",
       "  </tbody>\n",
       "</table>\n",
       "</div>"
      ],
      "text/plain": [
       "   ID ChaveSituacao ClassRisco   CatCliente  Pagamento\n",
       "0   1          32FC     Ccinza  Basic-Alpha          1\n",
       "1   2          25MV   AAmarelo        Black          1\n",
       "2   3          27MV  B-Amarelo   Basic-Beta          1\n",
       "3   4          26FD     BPreto        Black          0\n",
       "4   5          26FD  C-Amarelo        Black          0"
      ]
     },
     "execution_count": 3,
     "metadata": {},
     "output_type": "execute_result"
    }
   ],
   "source": [
    "base.head()"
   ]
  },
  {
   "cell_type": "markdown",
   "metadata": {},
   "source": [
    "**Verificando a cardinalidade desses dados**"
   ]
  },
  {
   "cell_type": "code",
   "execution_count": 4,
   "metadata": {},
   "outputs": [
    {
     "data": {
      "text/plain": [
       "Pagamento  ChaveSituacao\n",
       "0          26FD             2\n",
       "           28FC             2\n",
       "           28MD             1\n",
       "           30FC             1\n",
       "           31MD             1\n",
       "1          25FD             1\n",
       "           25FV             1\n",
       "           25MV             1\n",
       "           26MC             2\n",
       "           27MC             1\n",
       "           27MD             2\n",
       "           27MV             1\n",
       "           28FS             1\n",
       "           29MV             1\n",
       "           31MV             1\n",
       "           32FC             1\n",
       "Name: Pagamento, dtype: int64"
      ]
     },
     "execution_count": 4,
     "metadata": {},
     "output_type": "execute_result"
    }
   ],
   "source": [
    "base.groupby([\"Pagamento\",\"ChaveSituacao\"])[\"Pagamento\"].count()"
   ]
  },
  {
   "cell_type": "markdown",
   "metadata": {},
   "source": [
    "### Ao analisar essa base, percebemos que existe uma alta cardinalidade e por isso precisamos tratar esses dados\n",
    "\n",
    "- Ao mapear com o responsável pela área, ele informou o que representa cada coluna:\n",
    "    - ChaveSituacao: formado por:\n",
    "        - Idade do cliente (a idade mínima para ser cliente é 18 anos)\n",
    "        - Gênero do cliente:\n",
    "            - M: Masculino\n",
    "            - F: Feminino\n",
    "        - Estado civil do cliente:\n",
    "            - S: solteiro\n",
    "            - C: casado\n",
    "            - D: divorciado\n",
    "            - V: viúvo\n",
    "    - ClassRisco: formado por:\n",
    "        - Classificação do cliente como (A,B,C) e indicador (+,- ou vazio)\n",
    "        - Cor do cliente de acordo com um modelo de churn interno da empresa\n",
    "    - CatCliente: formado por:\n",
    "        - Categoria do cartão: qual o tipo de cartão do cliente:\n",
    "            - Basic\n",
    "            - Black\n",
    "            - Platinum\n",
    "        - Categoria VIP: categoria do cliente VIP (caso exista)\n",
    "            - Alpha\n",
    "            - Beta"
   ]
  },
  {
   "cell_type": "markdown",
   "metadata": {},
   "source": [
    "**Podemos começar tratando simplesmente separando a string da coluna**"
   ]
  },
  {
   "cell_type": "code",
   "execution_count": 5,
   "metadata": {},
   "outputs": [],
   "source": [
    "texto = '32FC'"
   ]
  },
  {
   "cell_type": "code",
   "execution_count": 9,
   "metadata": {},
   "outputs": [
    {
     "data": {
      "text/plain": [
       "'F'"
      ]
     },
     "execution_count": 9,
     "metadata": {},
     "output_type": "execute_result"
    }
   ],
   "source": [
    "texto[2:3]"
   ]
  },
  {
   "cell_type": "code",
   "execution_count": 14,
   "metadata": {},
   "outputs": [],
   "source": [
    "base['Idade'] = base.ChaveSituacao.str[:2]\n",
    "base['Genero'] = base.ChaveSituacao.str[2:3]\n",
    "base['EstadoCivil'] = base.ChaveSituacao.str[-1]"
   ]
  },
  {
   "cell_type": "code",
   "execution_count": 19,
   "metadata": {},
   "outputs": [
    {
     "data": {
      "text/html": [
       "<div>\n",
       "<style scoped>\n",
       "    .dataframe tbody tr th:only-of-type {\n",
       "        vertical-align: middle;\n",
       "    }\n",
       "\n",
       "    .dataframe tbody tr th {\n",
       "        vertical-align: top;\n",
       "    }\n",
       "\n",
       "    .dataframe thead th {\n",
       "        text-align: right;\n",
       "    }\n",
       "</style>\n",
       "<table border=\"1\" class=\"dataframe\">\n",
       "  <thead>\n",
       "    <tr style=\"text-align: right;\">\n",
       "      <th></th>\n",
       "      <th>ID</th>\n",
       "      <th>ChaveSituacao</th>\n",
       "      <th>ClassRisco</th>\n",
       "      <th>CatCliente</th>\n",
       "      <th>Pagamento</th>\n",
       "      <th>Idade</th>\n",
       "      <th>Genero</th>\n",
       "      <th>EstadoCivil</th>\n",
       "    </tr>\n",
       "  </thead>\n",
       "  <tbody>\n",
       "    <tr>\n",
       "      <th>0</th>\n",
       "      <td>1</td>\n",
       "      <td>32FC</td>\n",
       "      <td>Ccinza</td>\n",
       "      <td>Basic-Alpha</td>\n",
       "      <td>1</td>\n",
       "      <td>32</td>\n",
       "      <td>F</td>\n",
       "      <td>C</td>\n",
       "    </tr>\n",
       "    <tr>\n",
       "      <th>1</th>\n",
       "      <td>2</td>\n",
       "      <td>25MV</td>\n",
       "      <td>AAmarelo</td>\n",
       "      <td>Black</td>\n",
       "      <td>1</td>\n",
       "      <td>25</td>\n",
       "      <td>M</td>\n",
       "      <td>V</td>\n",
       "    </tr>\n",
       "    <tr>\n",
       "      <th>2</th>\n",
       "      <td>3</td>\n",
       "      <td>27MV</td>\n",
       "      <td>B-Amarelo</td>\n",
       "      <td>Basic-Beta</td>\n",
       "      <td>1</td>\n",
       "      <td>27</td>\n",
       "      <td>M</td>\n",
       "      <td>V</td>\n",
       "    </tr>\n",
       "    <tr>\n",
       "      <th>3</th>\n",
       "      <td>4</td>\n",
       "      <td>26FD</td>\n",
       "      <td>BPreto</td>\n",
       "      <td>Black</td>\n",
       "      <td>0</td>\n",
       "      <td>26</td>\n",
       "      <td>F</td>\n",
       "      <td>D</td>\n",
       "    </tr>\n",
       "    <tr>\n",
       "      <th>4</th>\n",
       "      <td>5</td>\n",
       "      <td>26FD</td>\n",
       "      <td>C-Amarelo</td>\n",
       "      <td>Black</td>\n",
       "      <td>0</td>\n",
       "      <td>26</td>\n",
       "      <td>F</td>\n",
       "      <td>D</td>\n",
       "    </tr>\n",
       "  </tbody>\n",
       "</table>\n",
       "</div>"
      ],
      "text/plain": [
       "   ID ChaveSituacao ClassRisco   CatCliente  Pagamento Idade Genero  \\\n",
       "0   1          32FC     Ccinza  Basic-Alpha          1    32      F   \n",
       "1   2          25MV   AAmarelo        Black          1    25      M   \n",
       "2   3          27MV  B-Amarelo   Basic-Beta          1    27      M   \n",
       "3   4          26FD     BPreto        Black          0    26      F   \n",
       "4   5          26FD  C-Amarelo        Black          0    26      F   \n",
       "\n",
       "  EstadoCivil  \n",
       "0           C  \n",
       "1           V  \n",
       "2           V  \n",
       "3           D  \n",
       "4           D  "
      ]
     },
     "execution_count": 19,
     "metadata": {},
     "output_type": "execute_result"
    }
   ],
   "source": [
    "base.head()"
   ]
  },
  {
   "cell_type": "code",
   "execution_count": 16,
   "metadata": {},
   "outputs": [
    {
     "data": {
      "text/plain": [
       "Pagamento  EstadoCivil\n",
       "0          C              3\n",
       "           D              4\n",
       "1          C              4\n",
       "           D              3\n",
       "           S              1\n",
       "           V              5\n",
       "Name: Pagamento, dtype: int64"
      ]
     },
     "execution_count": 16,
     "metadata": {},
     "output_type": "execute_result"
    }
   ],
   "source": [
    "base.groupby([\"Pagamento\",\"EstadoCivil\"])[\"Pagamento\"].count()"
   ]
  },
  {
   "cell_type": "markdown",
   "metadata": {},
   "source": [
    "**Podemos também fazer o split (divisão) de um valor baseado em um delimitador**"
   ]
  },
  {
   "cell_type": "code",
   "execution_count": 28,
   "metadata": {},
   "outputs": [],
   "source": [
    "texto = 'Basic-Alpha'"
   ]
  },
  {
   "cell_type": "code",
   "execution_count": 29,
   "metadata": {},
   "outputs": [
    {
     "data": {
      "text/plain": [
       "['Basic', 'Alpha']"
      ]
     },
     "execution_count": 29,
     "metadata": {},
     "output_type": "execute_result"
    }
   ],
   "source": [
    "texto.split('-') "
   ]
  },
  {
   "cell_type": "code",
   "execution_count": 35,
   "metadata": {},
   "outputs": [],
   "source": [
    "base['Categoria'] = base.CatCliente.str.split('-').str.get(0)\n",
    "base['CatVIP'] = base.CatCliente.str.split('-').str.get(1)"
   ]
  },
  {
   "cell_type": "code",
   "execution_count": 36,
   "metadata": {},
   "outputs": [
    {
     "data": {
      "text/html": [
       "<div>\n",
       "<style scoped>\n",
       "    .dataframe tbody tr th:only-of-type {\n",
       "        vertical-align: middle;\n",
       "    }\n",
       "\n",
       "    .dataframe tbody tr th {\n",
       "        vertical-align: top;\n",
       "    }\n",
       "\n",
       "    .dataframe thead th {\n",
       "        text-align: right;\n",
       "    }\n",
       "</style>\n",
       "<table border=\"1\" class=\"dataframe\">\n",
       "  <thead>\n",
       "    <tr style=\"text-align: right;\">\n",
       "      <th></th>\n",
       "      <th>ID</th>\n",
       "      <th>ChaveSituacao</th>\n",
       "      <th>ClassRisco</th>\n",
       "      <th>CatCliente</th>\n",
       "      <th>Pagamento</th>\n",
       "      <th>Idade</th>\n",
       "      <th>Genero</th>\n",
       "      <th>EstadoCivil</th>\n",
       "      <th>Categoria</th>\n",
       "      <th>CatVIP</th>\n",
       "    </tr>\n",
       "  </thead>\n",
       "  <tbody>\n",
       "    <tr>\n",
       "      <th>0</th>\n",
       "      <td>1</td>\n",
       "      <td>32FC</td>\n",
       "      <td>Ccinza</td>\n",
       "      <td>Basic-Alpha</td>\n",
       "      <td>1</td>\n",
       "      <td>32</td>\n",
       "      <td>F</td>\n",
       "      <td>C</td>\n",
       "      <td>Basic</td>\n",
       "      <td>Alpha</td>\n",
       "    </tr>\n",
       "    <tr>\n",
       "      <th>1</th>\n",
       "      <td>2</td>\n",
       "      <td>25MV</td>\n",
       "      <td>AAmarelo</td>\n",
       "      <td>Black</td>\n",
       "      <td>1</td>\n",
       "      <td>25</td>\n",
       "      <td>M</td>\n",
       "      <td>V</td>\n",
       "      <td>Black</td>\n",
       "      <td>NaN</td>\n",
       "    </tr>\n",
       "    <tr>\n",
       "      <th>2</th>\n",
       "      <td>3</td>\n",
       "      <td>27MV</td>\n",
       "      <td>B-Amarelo</td>\n",
       "      <td>Basic-Beta</td>\n",
       "      <td>1</td>\n",
       "      <td>27</td>\n",
       "      <td>M</td>\n",
       "      <td>V</td>\n",
       "      <td>Basic</td>\n",
       "      <td>Beta</td>\n",
       "    </tr>\n",
       "    <tr>\n",
       "      <th>3</th>\n",
       "      <td>4</td>\n",
       "      <td>26FD</td>\n",
       "      <td>BPreto</td>\n",
       "      <td>Black</td>\n",
       "      <td>0</td>\n",
       "      <td>26</td>\n",
       "      <td>F</td>\n",
       "      <td>D</td>\n",
       "      <td>Black</td>\n",
       "      <td>NaN</td>\n",
       "    </tr>\n",
       "    <tr>\n",
       "      <th>4</th>\n",
       "      <td>5</td>\n",
       "      <td>26FD</td>\n",
       "      <td>C-Amarelo</td>\n",
       "      <td>Black</td>\n",
       "      <td>0</td>\n",
       "      <td>26</td>\n",
       "      <td>F</td>\n",
       "      <td>D</td>\n",
       "      <td>Black</td>\n",
       "      <td>NaN</td>\n",
       "    </tr>\n",
       "  </tbody>\n",
       "</table>\n",
       "</div>"
      ],
      "text/plain": [
       "   ID ChaveSituacao ClassRisco   CatCliente  Pagamento Idade Genero  \\\n",
       "0   1          32FC     Ccinza  Basic-Alpha          1    32      F   \n",
       "1   2          25MV   AAmarelo        Black          1    25      M   \n",
       "2   3          27MV  B-Amarelo   Basic-Beta          1    27      M   \n",
       "3   4          26FD     BPreto        Black          0    26      F   \n",
       "4   5          26FD  C-Amarelo        Black          0    26      F   \n",
       "\n",
       "  EstadoCivil Categoria CatVIP  \n",
       "0           C     Basic  Alpha  \n",
       "1           V     Black    NaN  \n",
       "2           V     Basic   Beta  \n",
       "3           D     Black    NaN  \n",
       "4           D     Black    NaN  "
      ]
     },
     "execution_count": 36,
     "metadata": {},
     "output_type": "execute_result"
    }
   ],
   "source": [
    "base.head()"
   ]
  },
  {
   "cell_type": "markdown",
   "metadata": {},
   "source": [
    "**Caso a gente não consiga separar pela posição do texto ou por um delimitador, ainda temos a opção de usar o Regex**"
   ]
  },
  {
   "cell_type": "code",
   "execution_count": 37,
   "metadata": {},
   "outputs": [],
   "source": [
    "import re"
   ]
  },
  {
   "cell_type": "code",
   "execution_count": 41,
   "metadata": {},
   "outputs": [
    {
     "data": {
      "text/plain": [
       "[]"
      ]
     },
     "execution_count": 41,
     "metadata": {},
     "output_type": "execute_result"
    }
   ],
   "source": [
    "re.findall('Lucas','meu nome é Lucas')"
   ]
  },
  {
   "cell_type": "markdown",
   "metadata": {},
   "source": [
    "- Regex:\n",
    "    - ^: Começa com\n",
    "    - $: Termina com\n",
    "    - *: O último caracter repetido 0 ou mais vezes\n",
    "    - +: O último caracter repetido 1 ou mais vezes\n",
    "    - ?: O último caracter repetido 0 ou 1 vez\n",
    "    - [A-Z]: qualquer valor em maiúsculo"
   ]
  },
  {
   "cell_type": "code",
   "execution_count": 47,
   "metadata": {},
   "outputs": [
    {
     "data": {
      "text/plain": [
       "['Lcas']"
      ]
     },
     "execution_count": 47,
     "metadata": {},
     "output_type": "execute_result"
    }
   ],
   "source": [
    "# Buscando Lucas no texto abaixo\n",
    "re.findall('Lu*cas','meu nome é Lcas')"
   ]
  },
  {
   "cell_type": "code",
   "execution_count": 49,
   "metadata": {},
   "outputs": [
    {
     "data": {
      "text/plain": [
       "[]"
      ]
     },
     "execution_count": 49,
     "metadata": {},
     "output_type": "execute_result"
    }
   ],
   "source": [
    "# Verificando se começa ou termina com um caracter (usando ˆ, $)\n",
    "re.findall('^Lucas','meu nome é Lucas')"
   ]
  },
  {
   "cell_type": "code",
   "execution_count": 53,
   "metadata": {},
   "outputs": [
    {
     "data": {
      "text/plain": [
       "['Lucas']"
      ]
     },
     "execution_count": 53,
     "metadata": {},
     "output_type": "execute_result"
    }
   ],
   "source": [
    "# Verificando se existe parte da palavra Lucas (usando *, +, ?)\n",
    "re.findall('Lu+cas','meu nome é Lucas')"
   ]
  },
  {
   "cell_type": "code",
   "execution_count": 66,
   "metadata": {},
   "outputs": [
    {
     "data": {
      "text/plain": [
       "['Lucas']"
      ]
     },
     "execution_count": 66,
     "metadata": {},
     "output_type": "execute_result"
    }
   ],
   "source": [
    "# Buscando por letras maiúsculas\n",
    "re.findall('[A-Z]+\\w{4}','meu nome é Lucas')"
   ]
  },
  {
   "cell_type": "code",
   "execution_count": 74,
   "metadata": {},
   "outputs": [
    {
     "data": {
      "text/html": [
       "<div>\n",
       "<style scoped>\n",
       "    .dataframe tbody tr th:only-of-type {\n",
       "        vertical-align: middle;\n",
       "    }\n",
       "\n",
       "    .dataframe tbody tr th {\n",
       "        vertical-align: top;\n",
       "    }\n",
       "\n",
       "    .dataframe thead th {\n",
       "        text-align: right;\n",
       "    }\n",
       "</style>\n",
       "<table border=\"1\" class=\"dataframe\">\n",
       "  <thead>\n",
       "    <tr style=\"text-align: right;\">\n",
       "      <th></th>\n",
       "      <th>ID</th>\n",
       "      <th>ChaveSituacao</th>\n",
       "      <th>ClassRisco</th>\n",
       "      <th>CatCliente</th>\n",
       "      <th>Pagamento</th>\n",
       "      <th>Idade</th>\n",
       "      <th>Genero</th>\n",
       "      <th>EstadoCivil</th>\n",
       "      <th>Categoria</th>\n",
       "      <th>CatVIP</th>\n",
       "    </tr>\n",
       "  </thead>\n",
       "  <tbody>\n",
       "    <tr>\n",
       "      <th>0</th>\n",
       "      <td>1</td>\n",
       "      <td>32FC</td>\n",
       "      <td>Ccinza</td>\n",
       "      <td>Basic-Alpha</td>\n",
       "      <td>1</td>\n",
       "      <td>32</td>\n",
       "      <td>F</td>\n",
       "      <td>C</td>\n",
       "      <td>Basic</td>\n",
       "      <td>Alpha</td>\n",
       "    </tr>\n",
       "    <tr>\n",
       "      <th>1</th>\n",
       "      <td>2</td>\n",
       "      <td>25MV</td>\n",
       "      <td>AAmarelo</td>\n",
       "      <td>Black</td>\n",
       "      <td>1</td>\n",
       "      <td>25</td>\n",
       "      <td>M</td>\n",
       "      <td>V</td>\n",
       "      <td>Black</td>\n",
       "      <td>NaN</td>\n",
       "    </tr>\n",
       "    <tr>\n",
       "      <th>2</th>\n",
       "      <td>3</td>\n",
       "      <td>27MV</td>\n",
       "      <td>B-Amarelo</td>\n",
       "      <td>Basic-Beta</td>\n",
       "      <td>1</td>\n",
       "      <td>27</td>\n",
       "      <td>M</td>\n",
       "      <td>V</td>\n",
       "      <td>Basic</td>\n",
       "      <td>Beta</td>\n",
       "    </tr>\n",
       "    <tr>\n",
       "      <th>3</th>\n",
       "      <td>4</td>\n",
       "      <td>26FD</td>\n",
       "      <td>BPreto</td>\n",
       "      <td>Black</td>\n",
       "      <td>0</td>\n",
       "      <td>26</td>\n",
       "      <td>F</td>\n",
       "      <td>D</td>\n",
       "      <td>Black</td>\n",
       "      <td>NaN</td>\n",
       "    </tr>\n",
       "    <tr>\n",
       "      <th>4</th>\n",
       "      <td>5</td>\n",
       "      <td>26FD</td>\n",
       "      <td>C-Amarelo</td>\n",
       "      <td>Black</td>\n",
       "      <td>0</td>\n",
       "      <td>26</td>\n",
       "      <td>F</td>\n",
       "      <td>D</td>\n",
       "      <td>Black</td>\n",
       "      <td>NaN</td>\n",
       "    </tr>\n",
       "  </tbody>\n",
       "</table>\n",
       "</div>"
      ],
      "text/plain": [
       "   ID ChaveSituacao ClassRisco   CatCliente  Pagamento Idade Genero  \\\n",
       "0   1          32FC     Ccinza  Basic-Alpha          1    32      F   \n",
       "1   2          25MV   AAmarelo        Black          1    25      M   \n",
       "2   3          27MV  B-Amarelo   Basic-Beta          1    27      M   \n",
       "3   4          26FD     BPreto        Black          0    26      F   \n",
       "4   5          26FD  C-Amarelo        Black          0    26      F   \n",
       "\n",
       "  EstadoCivil Categoria CatVIP  \n",
       "0           C     Basic  Alpha  \n",
       "1           V     Black    NaN  \n",
       "2           V     Basic   Beta  \n",
       "3           D     Black    NaN  \n",
       "4           D     Black    NaN  "
      ]
     },
     "execution_count": 74,
     "metadata": {},
     "output_type": "execute_result"
    }
   ],
   "source": [
    "base.head()"
   ]
  },
  {
   "cell_type": "code",
   "execution_count": 84,
   "metadata": {},
   "outputs": [
    {
     "data": {
      "text/plain": [
       "['A']"
      ]
     },
     "execution_count": 84,
     "metadata": {},
     "output_type": "execute_result"
    }
   ],
   "source": [
    "# Buscando agora a classificação do cliente dentro da coluna \"ClassRisco\"\n",
    "re.findall('^[A-Z][^A-Za-z]?','AAmarelo')"
   ]
  },
  {
   "cell_type": "code",
   "execution_count": 88,
   "metadata": {},
   "outputs": [],
   "source": [
    "base['Risco'] = base.ClassRisco.apply(lambda x: re.findall('^[A-Z][^A-Za-z]?',x)[0])"
   ]
  },
  {
   "cell_type": "code",
   "execution_count": 89,
   "metadata": {},
   "outputs": [
    {
     "data": {
      "text/html": [
       "<div>\n",
       "<style scoped>\n",
       "    .dataframe tbody tr th:only-of-type {\n",
       "        vertical-align: middle;\n",
       "    }\n",
       "\n",
       "    .dataframe tbody tr th {\n",
       "        vertical-align: top;\n",
       "    }\n",
       "\n",
       "    .dataframe thead th {\n",
       "        text-align: right;\n",
       "    }\n",
       "</style>\n",
       "<table border=\"1\" class=\"dataframe\">\n",
       "  <thead>\n",
       "    <tr style=\"text-align: right;\">\n",
       "      <th></th>\n",
       "      <th>ID</th>\n",
       "      <th>ChaveSituacao</th>\n",
       "      <th>ClassRisco</th>\n",
       "      <th>CatCliente</th>\n",
       "      <th>Pagamento</th>\n",
       "      <th>Idade</th>\n",
       "      <th>Genero</th>\n",
       "      <th>EstadoCivil</th>\n",
       "      <th>Categoria</th>\n",
       "      <th>CatVIP</th>\n",
       "      <th>Risco</th>\n",
       "    </tr>\n",
       "  </thead>\n",
       "  <tbody>\n",
       "    <tr>\n",
       "      <th>0</th>\n",
       "      <td>1</td>\n",
       "      <td>32FC</td>\n",
       "      <td>Ccinza</td>\n",
       "      <td>Basic-Alpha</td>\n",
       "      <td>1</td>\n",
       "      <td>32</td>\n",
       "      <td>F</td>\n",
       "      <td>C</td>\n",
       "      <td>Basic</td>\n",
       "      <td>Alpha</td>\n",
       "      <td>C</td>\n",
       "    </tr>\n",
       "    <tr>\n",
       "      <th>1</th>\n",
       "      <td>2</td>\n",
       "      <td>25MV</td>\n",
       "      <td>AAmarelo</td>\n",
       "      <td>Black</td>\n",
       "      <td>1</td>\n",
       "      <td>25</td>\n",
       "      <td>M</td>\n",
       "      <td>V</td>\n",
       "      <td>Black</td>\n",
       "      <td>NaN</td>\n",
       "      <td>A</td>\n",
       "    </tr>\n",
       "    <tr>\n",
       "      <th>2</th>\n",
       "      <td>3</td>\n",
       "      <td>27MV</td>\n",
       "      <td>B-Amarelo</td>\n",
       "      <td>Basic-Beta</td>\n",
       "      <td>1</td>\n",
       "      <td>27</td>\n",
       "      <td>M</td>\n",
       "      <td>V</td>\n",
       "      <td>Basic</td>\n",
       "      <td>Beta</td>\n",
       "      <td>B-</td>\n",
       "    </tr>\n",
       "    <tr>\n",
       "      <th>3</th>\n",
       "      <td>4</td>\n",
       "      <td>26FD</td>\n",
       "      <td>BPreto</td>\n",
       "      <td>Black</td>\n",
       "      <td>0</td>\n",
       "      <td>26</td>\n",
       "      <td>F</td>\n",
       "      <td>D</td>\n",
       "      <td>Black</td>\n",
       "      <td>NaN</td>\n",
       "      <td>B</td>\n",
       "    </tr>\n",
       "    <tr>\n",
       "      <th>4</th>\n",
       "      <td>5</td>\n",
       "      <td>26FD</td>\n",
       "      <td>C-Amarelo</td>\n",
       "      <td>Black</td>\n",
       "      <td>0</td>\n",
       "      <td>26</td>\n",
       "      <td>F</td>\n",
       "      <td>D</td>\n",
       "      <td>Black</td>\n",
       "      <td>NaN</td>\n",
       "      <td>C-</td>\n",
       "    </tr>\n",
       "  </tbody>\n",
       "</table>\n",
       "</div>"
      ],
      "text/plain": [
       "   ID ChaveSituacao ClassRisco   CatCliente  Pagamento Idade Genero  \\\n",
       "0   1          32FC     Ccinza  Basic-Alpha          1    32      F   \n",
       "1   2          25MV   AAmarelo        Black          1    25      M   \n",
       "2   3          27MV  B-Amarelo   Basic-Beta          1    27      M   \n",
       "3   4          26FD     BPreto        Black          0    26      F   \n",
       "4   5          26FD  C-Amarelo        Black          0    26      F   \n",
       "\n",
       "  EstadoCivil Categoria CatVIP Risco  \n",
       "0           C     Basic  Alpha     C  \n",
       "1           V     Black    NaN     A  \n",
       "2           V     Basic   Beta    B-  \n",
       "3           D     Black    NaN     B  \n",
       "4           D     Black    NaN    C-  "
      ]
     },
     "execution_count": 89,
     "metadata": {},
     "output_type": "execute_result"
    }
   ],
   "source": [
    "base.head()"
   ]
  },
  {
   "cell_type": "code",
   "execution_count": 90,
   "metadata": {},
   "outputs": [
    {
     "name": "stdout",
     "output_type": "stream",
     "text": [
      "<class 'pandas.core.frame.DataFrame'>\n",
      "RangeIndex: 20 entries, 0 to 19\n",
      "Data columns (total 11 columns):\n",
      " #   Column         Non-Null Count  Dtype \n",
      "---  ------         --------------  ----- \n",
      " 0   ID             20 non-null     int64 \n",
      " 1   ChaveSituacao  20 non-null     object\n",
      " 2   ClassRisco     20 non-null     object\n",
      " 3   CatCliente     20 non-null     object\n",
      " 4   Pagamento      20 non-null     int64 \n",
      " 5   Idade          20 non-null     object\n",
      " 6   Genero         20 non-null     object\n",
      " 7   EstadoCivil    20 non-null     object\n",
      " 8   Categoria      20 non-null     object\n",
      " 9   CatVIP         8 non-null      object\n",
      " 10  Risco          20 non-null     object\n",
      "dtypes: int64(2), object(9)\n",
      "memory usage: 1.8+ KB\n"
     ]
    }
   ],
   "source": [
    "base.info()"
   ]
  },
  {
   "cell_type": "markdown",
   "metadata": {},
   "source": [
    "**Transformando a coluna 'Idade' em numérico**"
   ]
  },
  {
   "cell_type": "code",
   "execution_count": 91,
   "metadata": {},
   "outputs": [],
   "source": [
    "base['Idade'] = pd.to_numeric(base['Idade'])"
   ]
  },
  {
   "cell_type": "code",
   "execution_count": 92,
   "metadata": {},
   "outputs": [
    {
     "name": "stdout",
     "output_type": "stream",
     "text": [
      "<class 'pandas.core.frame.DataFrame'>\n",
      "RangeIndex: 20 entries, 0 to 19\n",
      "Data columns (total 11 columns):\n",
      " #   Column         Non-Null Count  Dtype \n",
      "---  ------         --------------  ----- \n",
      " 0   ID             20 non-null     int64 \n",
      " 1   ChaveSituacao  20 non-null     object\n",
      " 2   ClassRisco     20 non-null     object\n",
      " 3   CatCliente     20 non-null     object\n",
      " 4   Pagamento      20 non-null     int64 \n",
      " 5   Idade          20 non-null     int64 \n",
      " 6   Genero         20 non-null     object\n",
      " 7   EstadoCivil    20 non-null     object\n",
      " 8   Categoria      20 non-null     object\n",
      " 9   CatVIP         8 non-null      object\n",
      " 10  Risco          20 non-null     object\n",
      "dtypes: int64(3), object(8)\n",
      "memory usage: 1.8+ KB\n"
     ]
    }
   ],
   "source": [
    "base.info()"
   ]
  },
  {
   "cell_type": "markdown",
   "metadata": {},
   "source": [
    "**Por fim, tratando os valores vazios**"
   ]
  },
  {
   "cell_type": "code",
   "execution_count": 95,
   "metadata": {},
   "outputs": [],
   "source": [
    "base.loc[base.CatVIP.isnull(),\"CatVIP\"]=\"Comum\""
   ]
  },
  {
   "cell_type": "code",
   "execution_count": 96,
   "metadata": {},
   "outputs": [
    {
     "name": "stdout",
     "output_type": "stream",
     "text": [
      "<class 'pandas.core.frame.DataFrame'>\n",
      "RangeIndex: 20 entries, 0 to 19\n",
      "Data columns (total 11 columns):\n",
      " #   Column         Non-Null Count  Dtype \n",
      "---  ------         --------------  ----- \n",
      " 0   ID             20 non-null     int64 \n",
      " 1   ChaveSituacao  20 non-null     object\n",
      " 2   ClassRisco     20 non-null     object\n",
      " 3   CatCliente     20 non-null     object\n",
      " 4   Pagamento      20 non-null     int64 \n",
      " 5   Idade          20 non-null     int64 \n",
      " 6   Genero         20 non-null     object\n",
      " 7   EstadoCivil    20 non-null     object\n",
      " 8   Categoria      20 non-null     object\n",
      " 9   CatVIP         20 non-null     object\n",
      " 10  Risco          20 non-null     object\n",
      "dtypes: int64(3), object(8)\n",
      "memory usage: 1.8+ KB\n"
     ]
    }
   ],
   "source": [
    "base.info()"
   ]
  },
  {
   "cell_type": "markdown",
   "metadata": {},
   "source": [
    "**Agora podemos criar uma nova base apenas com as colunas que acabamos de criar**"
   ]
  },
  {
   "cell_type": "code",
   "execution_count": 99,
   "metadata": {},
   "outputs": [
    {
     "data": {
      "text/plain": [
       "Pagamento  Risco\n",
       "0          B        2\n",
       "           C-       5\n",
       "1          A        3\n",
       "           A-       4\n",
       "           B-       2\n",
       "           C        3\n",
       "           C+       1\n",
       "Name: Pagamento, dtype: int64"
      ]
     },
     "execution_count": 99,
     "metadata": {},
     "output_type": "execute_result"
    }
   ],
   "source": [
    "base.groupby([\"Pagamento\",\"Risco\"])[\"Pagamento\"].count()"
   ]
  }
 ],
 "metadata": {
  "kernelspec": {
   "display_name": "Python 3 (ipykernel)",
   "language": "python",
   "name": "python3"
  },
  "language_info": {
   "codemirror_mode": {
    "name": "ipython",
    "version": 3
   },
   "file_extension": ".py",
   "mimetype": "text/x-python",
   "name": "python",
   "nbconvert_exporter": "python",
   "pygments_lexer": "ipython3",
   "version": "3.9.7"
  }
 },
 "nbformat": 4,
 "nbformat_minor": 4
}
